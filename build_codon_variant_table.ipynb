{
 "cells": [
  {
   "cell_type": "markdown",
   "id": "1dfd033e-5aaa-45a4-8a82-480cdd688761",
   "metadata": {},
   "source": [
    "# Build combined 'codon_variant_table.csv'\n",
    "\n",
    "Need to take the codon variant tables from the \"epistatic shifts\" _Science_ paper and from the unpublished Omicron (BA.1 and BA.2) projects, and extract and combine the barcodes that correspond to these variants:\n",
    "* Wuhan-Hu-1\n",
    "* BA.1\n",
    "\n",
    "Also need to duplicate the \"follow-up pools\" for Wuhan-Hu-1 (if I can find where those are) from the _Science_ paper and duplicate into library 2. \n",
    "\n",
    "The problem is this: it is not clear which barcodes came from the follow-up pool, and which did not. \n",
    "The follow-up pool was sequenced separately, so might be able to use this to help.\n",
    "\n",
    "Ideal would be to find barcodes that correspond to the follow-up pool, query the codon variant table on those barcodes, duplicate them but assign to library 2. \n",
    "\n",
    "I'm not going to worry about this right now, and will just focus on what we already have."
   ]
  },
  {
   "cell_type": "code",
   "execution_count": 1,
   "id": "a9ebfb9a-52bd-40e2-aefa-367e3b464cf6",
   "metadata": {},
   "outputs": [],
   "source": [
    "import os\n",
    "\n",
    "import numpy\n",
    "import pandas as pd\n",
    "from IPython.display import display, HTML\n",
    "\n",
    "import yaml"
   ]
  },
  {
   "cell_type": "markdown",
   "id": "58d8625f-04ea-4e4f-864b-f8aad5422cd1",
   "metadata": {},
   "source": [
    "Read config file."
   ]
  },
  {
   "cell_type": "code",
   "execution_count": 2,
   "id": "b97312b3-5202-41c0-8918-0c1ddf90f941",
   "metadata": {},
   "outputs": [],
   "source": [
    "with open('config.yaml') as f:\n",
    "    config = yaml.safe_load(f)"
   ]
  },
  {
   "cell_type": "markdown",
   "id": "024f8351-f45b-434f-b752-06c2bf951fe8",
   "metadata": {},
   "source": [
    "Define input and output directories."
   ]
  },
  {
   "cell_type": "code",
   "execution_count": 3,
   "id": "39bc2bcc-cff5-44e4-8f8a-8eb30ef65a2e",
   "metadata": {},
   "outputs": [],
   "source": [
    "datadir = 'data'\n",
    "resultsdir = config['variants_dir']\n",
    "\n",
    "os.makedirs(resultsdir, exist_ok=True)\n",
    "os.makedirs(config['prior_DMS_data_dir'], exist_ok=True)"
   ]
  },
  {
   "cell_type": "markdown",
   "id": "e404e883-06ac-492b-a2f1-ee6a8db96798",
   "metadata": {},
   "source": [
    "Read in the new input codon variant tables and assign a target for each."
   ]
  },
  {
   "cell_type": "code",
   "execution_count": 4,
   "id": "97acad72-be85-4217-afb5-fbe2d18a6b62",
   "metadata": {},
   "outputs": [],
   "source": [
    "# hard-coded dictionary to replace values in codon variant table:\n",
    "\n",
    "names_df = {'Wuhan_Hu_1':'Wuhan-Hu-1',\n",
    "            'BA1':'BA.1',\n",
    "            'pool1':'lib1',\n",
    "            'pool2':'lib2',\n",
    "           }"
   ]
  },
  {
   "cell_type": "code",
   "execution_count": 5,
   "id": "184d8161-eb52-4775-b2e7-01e0ca772f81",
   "metadata": {},
   "outputs": [
    {
     "name": "stdout",
     "output_type": "stream",
     "text": [
      "Reading codon variant table for Wuhan-Hu-1.\n",
      "Reading codon variant table for BA.1.\n"
     ]
    },
    {
     "data": {
      "text/html": [
       "<table border=\"1\" class=\"dataframe\">\n",
       "  <thead>\n",
       "    <tr style=\"text-align: right;\">\n",
       "      <th>target</th>\n",
       "      <th>library</th>\n",
       "      <th>barcode</th>\n",
       "      <th>variant_call_support</th>\n",
       "      <th>codon_substitutions</th>\n",
       "      <th>aa_substitutions</th>\n",
       "      <th>n_codon_substitutions</th>\n",
       "      <th>n_aa_substitutions</th>\n",
       "    </tr>\n",
       "  </thead>\n",
       "  <tbody>\n",
       "    <tr>\n",
       "      <td>Wuhan-Hu-1</td>\n",
       "      <td>lib1</td>\n",
       "      <td>AAAAAAAAAAAGGAGA</td>\n",
       "      <td>4</td>\n",
       "      <td>GGT166ATG</td>\n",
       "      <td>G166M</td>\n",
       "      <td>1</td>\n",
       "      <td>1</td>\n",
       "    </tr>\n",
       "    <tr>\n",
       "      <td>Wuhan-Hu-1</td>\n",
       "      <td>lib1</td>\n",
       "      <td>AAAAAAAAAAATTTAA</td>\n",
       "      <td>4</td>\n",
       "      <td>NaN</td>\n",
       "      <td>NaN</td>\n",
       "      <td>0</td>\n",
       "      <td>0</td>\n",
       "    </tr>\n",
       "    <tr>\n",
       "      <td>Wuhan-Hu-1</td>\n",
       "      <td>lib1</td>\n",
       "      <td>AAAAAAAAAACGCGTA</td>\n",
       "      <td>3</td>\n",
       "      <td>GAA154ACT</td>\n",
       "      <td>E154T</td>\n",
       "      <td>1</td>\n",
       "      <td>1</td>\n",
       "    </tr>\n",
       "    <tr>\n",
       "      <td>Wuhan-Hu-1</td>\n",
       "      <td>lib1</td>\n",
       "      <td>AAAAAAAAAACTCCAA</td>\n",
       "      <td>2</td>\n",
       "      <td>TTT156ATG</td>\n",
       "      <td>F156M</td>\n",
       "      <td>1</td>\n",
       "      <td>1</td>\n",
       "    </tr>\n",
       "    <tr>\n",
       "      <td>Wuhan-Hu-1</td>\n",
       "      <td>lib1</td>\n",
       "      <td>AAAAAAAAACCGATTA</td>\n",
       "      <td>2</td>\n",
       "      <td>CAG84GAA</td>\n",
       "      <td>Q84E</td>\n",
       "      <td>1</td>\n",
       "      <td>1</td>\n",
       "    </tr>\n",
       "  </tbody>\n",
       "</table>"
      ],
      "text/plain": [
       "<IPython.core.display.HTML object>"
      ]
     },
     "metadata": {},
     "output_type": "display_data"
    }
   ],
   "source": [
    "codon_variant_table = pd.DataFrame()\n",
    "\n",
    "for target, file in config['input_codon_variant_tables'].items():\n",
    "    print(f'Reading codon variant table for {target}.')\n",
    "    df = pd.read_csv(file).replace(names_df)\n",
    "    codon_variant_table = pd.concat([codon_variant_table, df])\n",
    "    df.to_csv(config['codon_variant_tables'][target], index=False)\n",
    "\n",
    "codon_variant_table.to_csv(config['codon_variant_table'], index=False)\n",
    "display(HTML(codon_variant_table.head().to_html(index=False)))"
   ]
  },
  {
   "cell_type": "markdown",
   "id": "1838c0bc-02b4-48c1-bbd5-74cc8cd80937",
   "metadata": {},
   "source": [
    "## Now do the same for the DMS ACE2 binding and RBD expression scores for each library. "
   ]
  },
  {
   "cell_type": "code",
   "execution_count": 6,
   "id": "cd628eeb-3975-4fc5-9934-fefcad61b03f",
   "metadata": {},
   "outputs": [],
   "source": [
    "# hard-coded dictionary to replace values in final variant scores:\n",
    "\n",
    "names_df = {'Wuhan_Hu_1':'Wuhan-Hu-1',\n",
    "            'Omicron_BA1':'BA.1',\n",
    "           }"
   ]
  },
  {
   "cell_type": "code",
   "execution_count": 7,
   "id": "9ebc5b66-36c0-4f34-8237-86500afab664",
   "metadata": {},
   "outputs": [
    {
     "name": "stdout",
     "output_type": "stream",
     "text": [
      "Reading variant scores for Wuhan-Hu-1.\n",
      "Reading variant scores for BA.1.\n"
     ]
    },
    {
     "data": {
      "text/html": [
       "<table border=\"1\" class=\"dataframe\">\n",
       "  <thead>\n",
       "    <tr style=\"text-align: right;\">\n",
       "      <th>target</th>\n",
       "      <th>wildtype</th>\n",
       "      <th>position</th>\n",
       "      <th>mutant</th>\n",
       "      <th>mutation</th>\n",
       "      <th>bind</th>\n",
       "      <th>delta_bind</th>\n",
       "      <th>n_bc_bind</th>\n",
       "      <th>n_libs_bind</th>\n",
       "      <th>bind_rep1</th>\n",
       "      <th>bind_rep2</th>\n",
       "      <th>bind_rep3</th>\n",
       "      <th>expr</th>\n",
       "      <th>delta_expr</th>\n",
       "      <th>n_bc_expr</th>\n",
       "      <th>n_libs_expr</th>\n",
       "      <th>expr_rep1</th>\n",
       "      <th>expr_rep2</th>\n",
       "    </tr>\n",
       "  </thead>\n",
       "  <tbody>\n",
       "    <tr>\n",
       "      <td>Wuhan-Hu-1</td>\n",
       "      <td>N</td>\n",
       "      <td>331</td>\n",
       "      <td>A</td>\n",
       "      <td>N331A</td>\n",
       "      <td>8.79360</td>\n",
       "      <td>0.06027</td>\n",
       "      <td>4</td>\n",
       "      <td>2</td>\n",
       "      <td>8.76603</td>\n",
       "      <td>NaN</td>\n",
       "      <td>8.82117</td>\n",
       "      <td>10.29895</td>\n",
       "      <td>0.11422</td>\n",
       "      <td>2</td>\n",
       "      <td>1</td>\n",
       "      <td>10.29895</td>\n",
       "      <td>NaN</td>\n",
       "    </tr>\n",
       "    <tr>\n",
       "      <td>Wuhan-Hu-1</td>\n",
       "      <td>N</td>\n",
       "      <td>331</td>\n",
       "      <td>C</td>\n",
       "      <td>N331C</td>\n",
       "      <td>8.61594</td>\n",
       "      <td>-0.15567</td>\n",
       "      <td>5</td>\n",
       "      <td>3</td>\n",
       "      <td>8.73710</td>\n",
       "      <td>8.56255</td>\n",
       "      <td>8.54816</td>\n",
       "      <td>9.67665</td>\n",
       "      <td>-0.50923</td>\n",
       "      <td>4</td>\n",
       "      <td>2</td>\n",
       "      <td>9.49750</td>\n",
       "      <td>9.85579</td>\n",
       "    </tr>\n",
       "    <tr>\n",
       "      <td>Wuhan-Hu-1</td>\n",
       "      <td>N</td>\n",
       "      <td>331</td>\n",
       "      <td>D</td>\n",
       "      <td>N331D</td>\n",
       "      <td>8.75409</td>\n",
       "      <td>-0.01751</td>\n",
       "      <td>8</td>\n",
       "      <td>3</td>\n",
       "      <td>8.65990</td>\n",
       "      <td>8.79668</td>\n",
       "      <td>8.80570</td>\n",
       "      <td>10.06985</td>\n",
       "      <td>-0.11602</td>\n",
       "      <td>5</td>\n",
       "      <td>2</td>\n",
       "      <td>10.14610</td>\n",
       "      <td>9.99361</td>\n",
       "    </tr>\n",
       "    <tr>\n",
       "      <td>Wuhan-Hu-1</td>\n",
       "      <td>N</td>\n",
       "      <td>331</td>\n",
       "      <td>E</td>\n",
       "      <td>N331E</td>\n",
       "      <td>8.92561</td>\n",
       "      <td>0.15400</td>\n",
       "      <td>10</td>\n",
       "      <td>3</td>\n",
       "      <td>8.69116</td>\n",
       "      <td>9.12888</td>\n",
       "      <td>8.95680</td>\n",
       "      <td>10.18436</td>\n",
       "      <td>-0.00151</td>\n",
       "      <td>6</td>\n",
       "      <td>2</td>\n",
       "      <td>10.22575</td>\n",
       "      <td>10.14298</td>\n",
       "    </tr>\n",
       "    <tr>\n",
       "      <td>Wuhan-Hu-1</td>\n",
       "      <td>N</td>\n",
       "      <td>331</td>\n",
       "      <td>F</td>\n",
       "      <td>N331F</td>\n",
       "      <td>8.65690</td>\n",
       "      <td>-0.11470</td>\n",
       "      <td>6</td>\n",
       "      <td>3</td>\n",
       "      <td>8.36984</td>\n",
       "      <td>8.80036</td>\n",
       "      <td>8.80051</td>\n",
       "      <td>10.01397</td>\n",
       "      <td>-0.17191</td>\n",
       "      <td>4</td>\n",
       "      <td>2</td>\n",
       "      <td>10.14360</td>\n",
       "      <td>9.88434</td>\n",
       "    </tr>\n",
       "  </tbody>\n",
       "</table>"
      ],
      "text/plain": [
       "<IPython.core.display.HTML object>"
      ]
     },
     "metadata": {},
     "output_type": "display_data"
    }
   ],
   "source": [
    "mut_bind_expr = pd.DataFrame()\n",
    "\n",
    "for target, file in config['input_mut_bind_expr'].items():\n",
    "    print(f'Reading variant scores for {target}.')\n",
    "    df = (pd.read_csv(file)\n",
    "          .replace(names_df)\n",
    "          .query('target==@target')\n",
    "         )\n",
    "    mut_bind_expr = pd.concat([mut_bind_expr, df])\n",
    "\n",
    "mut_bind_expr.to_csv(config['mut_bind_expr'], index=False)\n",
    "display(HTML(mut_bind_expr.head().to_html(index=False)))"
   ]
  },
  {
   "cell_type": "code",
   "execution_count": null,
   "id": "6f93654a-3f00-4476-8887-de2821349d42",
   "metadata": {},
   "outputs": [],
   "source": []
  }
 ],
 "metadata": {
  "language_info": {
   "name": "python"
  }
 },
 "nbformat": 4,
 "nbformat_minor": 5
}
